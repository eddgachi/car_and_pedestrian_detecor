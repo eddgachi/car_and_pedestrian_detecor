{
 "cells": [
  {
   "cell_type": "markdown",
   "metadata": {},
   "source": [
    "## Car & Pedestrian detection"
   ]
  },
  {
   "cell_type": "code",
   "execution_count": 4,
   "metadata": {},
   "outputs": [],
   "source": [
    "import numpy as np\n",
    "import cv2\n",
    "import time"
   ]
  },
  {
   "cell_type": "markdown",
   "metadata": {},
   "source": [
    "## Pedestrian detection"
   ]
  },
  {
   "cell_type": "code",
   "execution_count": 6,
   "metadata": {},
   "outputs": [],
   "source": [
    "# create our body classifier\n",
    "body_classifier = cv2.CascadeClassifier('haarcascades/haarcascade_fullbody.xml')\n",
    "\n",
    "# initiate video capture for video file\n",
    "cap = cv2.VideoCapture('images/walking.avi')\n",
    "\n",
    "# loop once video is successfully loaded\n",
    "while cap.isOpened():\n",
    "    \n",
    "    # read first frame\n",
    "    ret, frame = cap.read()\n",
    "    frame = cv2.resize(frame, None, fx=0.5, fy=0.5, interpolation=cv2.INTER_LINEAR)\n",
    "    \n",
    "    gray = cv2.cvtColor(frame, cv2.COLOR_BGR2GRAY)\n",
    "    \n",
    "    # pass frame to our body classifer\n",
    "    bodies = body_classifier.detectMultiScale(gray, 1.2, 3)\n",
    "    \n",
    "    # extract bounding boxes for any bodies identified\n",
    "    for (x,y,w,h) in bodies:\n",
    "        cv2.rectangle(frame,(x,y), (x+w, y+h), (0,255,255), 2)\n",
    "        cv2.imshow('Pedestrians', frame)\n",
    "    \n",
    "    if cv2.waitKey(1) == 13: # 13 is the Enter key\n",
    "        break\n",
    "\n",
    "cap.release()\n",
    "cv2.destroyAllWindows()"
   ]
  },
  {
   "cell_type": "markdown",
   "metadata": {},
   "source": [
    "## Car detection"
   ]
  },
  {
   "cell_type": "code",
   "execution_count": 5,
   "metadata": {},
   "outputs": [],
   "source": [
    "# create our body classifier\n",
    "body_classifier = cv2.CascadeClassifier('haarcascades/haarcascade_car.xml')\n",
    "\n",
    "# initiate video capture for video file\n",
    "cap = cv2.VideoCapture('images/cars.avi')\n",
    "\n",
    "# loop once video is successfully loaded\n",
    "while cap.isOpened():\n",
    "    time.sleep(.1)\n",
    "    \n",
    "    #read first frame\n",
    "    ret, frame = cap.read()\n",
    "    gray = cv2.cvtColor(frame, cv2.COLOR_BGR2GRAY)\n",
    "    \n",
    "    # pass the frame to our body classifer\n",
    "    bodies = body_classifier.detectMultiScale(gray, 1.3, 3)\n",
    "    \n",
    "    # extract bounding boxes for any bodies identified\n",
    "    for (x,y,w,h) in bodies:\n",
    "        cv2.rectangle(frame,(x,y), (x+w, y+h), (0,255,255), 2)\n",
    "        cv2.imshow('Cars', frame)\n",
    "    \n",
    "    if cv2.waitKey(1) == 13: # 13 is the Enter key\n",
    "        break\n",
    "\n",
    "cap.release()\n",
    "cv2.destroyAllWindows()"
   ]
  },
  {
   "cell_type": "code",
   "execution_count": null,
   "metadata": {},
   "outputs": [],
   "source": []
  }
 ],
 "metadata": {
  "kernelspec": {
   "display_name": "TF2py3",
   "language": "python",
   "name": "tf2py3"
  },
  "language_info": {
   "codemirror_mode": {
    "name": "ipython",
    "version": 3
   },
   "file_extension": ".py",
   "mimetype": "text/x-python",
   "name": "python",
   "nbconvert_exporter": "python",
   "pygments_lexer": "ipython3",
   "version": "3.8.3"
  }
 },
 "nbformat": 4,
 "nbformat_minor": 4
}
